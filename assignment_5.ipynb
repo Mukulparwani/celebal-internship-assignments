{
 "cells": [
  {
   "cell_type": "code",
   "execution_count": 3,
   "id": "98f75a36",
   "metadata": {},
   "outputs": [],
   "source": [
    "import numpy as np\n",
    "import pandas as pd\n",
    "from scipy import stats\n",
    "from sklearn.base import BaseEstimator, TransformerMixin\n",
    "from sklearn.pipeline import Pipeline\n",
    "from sklearn.compose import ColumnTransformer\n",
    "from sklearn.preprocessing import RobustScaler, OneHotEncoder, OrdinalEncoder"
   ]
  },
  {
   "cell_type": "code",
   "execution_count": 4,
   "id": "58237214",
   "metadata": {},
   "outputs": [],
   "source": [
    "train = pd.read_csv('train (assignment_5).csv')\n",
    "test  = pd.read_csv('test (assignment_5).csv')\n",
    "all_data = pd.concat([train.drop('SalePrice', axis=1), test], sort=False)"
   ]
  },
  {
   "cell_type": "code",
   "execution_count": null,
   "id": "4b219e18",
   "metadata": {},
   "outputs": [],
   "source": [
    "# Drop useless features\n",
    "all_data.drop(['Id','Street','Utilities'], axis=1, inplace=True)"
   ]
  },
  {
   "cell_type": "code",
   "execution_count": 7,
   "id": "cca79097",
   "metadata": {},
   "outputs": [],
   "source": [
    "# Impute missing values\n",
    "# Numeric with 0\n",
    "zeros = ['BsmtFinSF1','BsmtFinSF2','BsmtFullBath','BsmtHalfBath',\n",
    "         'TotalBsmtSF','MasVnrArea']\n",
    "all_data[zeros] = all_data[zeros].fillna(0)\n",
    "# LotFrontage median by Neighborhood\n",
    "all_data['LotFrontage'] = all_data.groupby('Neighborhood')['LotFrontage'].transform(\n",
    "    lambda x: x.fillna(x.median()))\n",
    "# Categorical fill\n",
    "for col in all_data.select_dtypes('object'):\n",
    "    all_data[col] = all_data[col].fillna('None')"
   ]
  },
  {
   "cell_type": "code",
   "execution_count": 8,
   "id": "cb917063",
   "metadata": {},
   "outputs": [],
   "source": [
    "# Feature engineering\n",
    "all_data['HasGarage'] = (all_data['GarageArea'] > 0).astype(int)\n",
    "all_data['HasFireplace'] = (all_data['Fireplaces'] > 0).astype(int)\n",
    "all_data['HasPool'] = (all_data['PoolArea'] > 0).astype(int)\n",
    "all_data['Has2ndFlr'] = (all_data['2ndFlrSF'] > 0).astype(int)\n",
    "all_data['TotalSF'] = all_data['GrLivArea'] + all_data['TotalBsmtSF']\n",
    "all_data['TotalBaths'] = (all_data['BsmtFullBath'] + all_data['FullBath'] +\n",
    "                          0.5*(all_data['BsmtHalfBath'] + all_data['HalfBath']))"
   ]
  },
  {
   "cell_type": "code",
   "execution_count": 9,
   "id": "c8867f1b",
   "metadata": {},
   "outputs": [],
   "source": [
    "# Neighborhood encoding into tiers (0=low,2=high) – customized per data distribution\n",
    "neigh_mean = train.groupby('Neighborhood')['SalePrice'].mean()\n",
    "tiers = pd.qcut(neigh_mean, 3, labels=[0,1,2])\n",
    "all_data['NeighborhoodTier'] = all_data['Neighborhood'].map(tiers)"
   ]
  },
  {
   "cell_type": "code",
   "execution_count": null,
   "id": "fad22b98",
   "metadata": {},
   "outputs": [],
   "source": [
    "\n",
    "# Log transform skewed numeric features\n",
    "numeric_feats = all_data.select_dtypes(include=[np.number]).columns\n",
    "skewed = all_data[numeric_feats].apply(lambda x: stats.skew(x.dropna())).abs()\n",
    "skewed_feats = skewed[skewed > 0.5].index\n",
    "all_data[skewed_feats] = np.log1p(all_data[skewed_feats])"
   ]
  },
  {
   "cell_type": "code",
   "execution_count": 11,
   "id": "a23d353a",
   "metadata": {},
   "outputs": [],
   "source": [
    "# Separate target, re-split train/test\n",
    "y = np.log1p(train['SalePrice'])\n",
    "X = all_data.iloc[:train.shape[0], :]\n",
    "X_test = all_data.iloc[train.shape[0]:, :]"
   ]
  },
  {
   "cell_type": "code",
   "execution_count": 12,
   "id": "72cb6773",
   "metadata": {},
   "outputs": [],
   "source": [
    "# Build preprocessing pipeline\n",
    "num_cols = X.select_dtypes(include=[np.number]).columns\n",
    "cat_cols = X.select_dtypes(include=['object']).columns\n",
    "\n",
    "num_pipeline = Pipeline([\n",
    "    ('scaler', RobustScaler())\n",
    "])\n",
    "\n",
    "cat_pipeline = Pipeline([\n",
    "    ('onehot', OneHotEncoder(handle_unknown='ignore'))\n",
    "])\n",
    "\n",
    "preprocessor = ColumnTransformer([\n",
    "    ('num', num_pipeline, num_cols),\n",
    "    ('cat', cat_pipeline, cat_cols)\n",
    "])\n"
   ]
  },
  {
   "cell_type": "code",
   "execution_count": 13,
   "id": "e8ebf053",
   "metadata": {},
   "outputs": [],
   "source": [
    "# Fit and transform\n",
    "X_trans = preprocessor.fit_transform(X)\n",
    "X_test_trans = preprocessor.transform(X_test)"
   ]
  },
  {
   "cell_type": "code",
   "execution_count": null,
   "id": "7e24f946",
   "metadata": {},
   "outputs": [],
   "source": []
  }
 ],
 "metadata": {
  "kernelspec": {
   "display_name": "base",
   "language": "python",
   "name": "python3"
  },
  "language_info": {
   "codemirror_mode": {
    "name": "ipython",
    "version": 3
   },
   "file_extension": ".py",
   "mimetype": "text/x-python",
   "name": "python",
   "nbconvert_exporter": "python",
   "pygments_lexer": "ipython3",
   "version": "3.12.7"
  }
 },
 "nbformat": 4,
 "nbformat_minor": 5
}
