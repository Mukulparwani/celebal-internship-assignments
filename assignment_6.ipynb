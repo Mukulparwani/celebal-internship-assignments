{
 "cells": [
  {
   "cell_type": "code",
   "execution_count": 1,
   "id": "2445a61e",
   "metadata": {},
   "outputs": [],
   "source": [
    "import numpy as np\n",
    "import pandas as pd\n",
    "from sklearn.datasets import load_wine\n",
    "from sklearn.model_selection import train_test_split, GridSearchCV, RandomizedSearchCV\n",
    "from sklearn.ensemble import RandomForestClassifier, GradientBoostingClassifier\n",
    "from sklearn.svm import SVC\n",
    "from sklearn.metrics import (accuracy_score, precision_score, recall_score, f1_score, classification_report)"
   ]
  },
  {
   "cell_type": "code",
   "execution_count": 4,
   "id": "b46e9864",
   "metadata": {},
   "outputs": [],
   "source": [
    "# Load and split data\n",
    "data = load_wine()\n",
    "X_train, X_test, y_train, y_test = train_test_split(\n",
    "    data.data, data.target, test_size=0.2, random_state=42, stratify=data.target\n",
    ")"
   ]
  },
  {
   "cell_type": "code",
   "execution_count": 5,
   "id": "8f8a539c",
   "metadata": {},
   "outputs": [
    {
     "name": "stdout",
     "output_type": "stream",
     "text": [
      "\n",
      "=== RandomForest - GridSearchCV ===\n",
      "Best params: {'max_depth': None, 'min_samples_split': 2, 'n_estimators': 100}\n",
      "              precision    recall  f1-score   support\n",
      "\n",
      "           0     1.0000    1.0000    1.0000        12\n",
      "           1     1.0000    1.0000    1.0000        14\n",
      "           2     1.0000    1.0000    1.0000        10\n",
      "\n",
      "    accuracy                         1.0000        36\n",
      "   macro avg     1.0000    1.0000    1.0000        36\n",
      "weighted avg     1.0000    1.0000    1.0000        36\n",
      "\n",
      "\n",
      "=== SVM - GridSearchCV ===\n",
      "Best params: {'C': 0.1, 'gamma': 'scale', 'kernel': 'linear'}\n",
      "              precision    recall  f1-score   support\n",
      "\n",
      "           0     1.0000    1.0000    1.0000        12\n",
      "           1     0.9333    1.0000    0.9655        14\n",
      "           2     1.0000    0.9000    0.9474        10\n",
      "\n",
      "    accuracy                         0.9722        36\n",
      "   macro avg     0.9778    0.9667    0.9710        36\n",
      "weighted avg     0.9741    0.9722    0.9720        36\n",
      "\n",
      "\n",
      "=== GBM - GridSearchCV ===\n",
      "Best params: {'learning_rate': 0.1, 'max_depth': 3, 'n_estimators': 100}\n",
      "              precision    recall  f1-score   support\n",
      "\n",
      "           0     0.9231    1.0000    0.9600        12\n",
      "           1     0.9286    0.9286    0.9286        14\n",
      "           2     1.0000    0.9000    0.9474        10\n",
      "\n",
      "    accuracy                         0.9444        36\n",
      "   macro avg     0.9505    0.9429    0.9453        36\n",
      "weighted avg     0.9466    0.9444    0.9443        36\n",
      "\n"
     ]
    }
   ],
   "source": [
    "# Define models and hyperparameter grids\n",
    "models = {\n",
    "    'RandomForest': {\n",
    "        'estimator': RandomForestClassifier(random_state=42),\n",
    "        'param_grid': {\n",
    "            'n_estimators': [100, 200],\n",
    "            'max_depth': [None, 5, 10],\n",
    "            'min_samples_split': [2, 5]\n",
    "        }\n",
    "    },\n",
    "    'SVM': {\n",
    "        'estimator': SVC(random_state=42, probability=True),\n",
    "        'param_grid': {\n",
    "            'C': [0.1, 1, 10],\n",
    "            'kernel': ['linear', 'rbf'],\n",
    "            'gamma': ['scale', 'auto']\n",
    "        }\n",
    "    },\n",
    "    'GBM': {\n",
    "        'estimator': GradientBoostingClassifier(random_state=42),\n",
    "        'param_grid': {\n",
    "            'n_estimators': [100, 200],\n",
    "            'learning_rate': [0.01, 0.1],\n",
    "            'max_depth': [3, 5]\n",
    "        }\n",
    "    }\n",
    "}\n",
    "\n",
    "results = {}\n",
    "\n",
    "for name, cfg in models.items():\n",
    "    print(f\"\\n=== {name} - GridSearchCV ===\")\n",
    "    gs = GridSearchCV(cfg['estimator'], cfg['param_grid'], cv=5, n_jobs=-1, scoring='accuracy')\n",
    "    gs.fit(X_train, y_train)\n",
    "    print(\"Best params:\", gs.best_params_)\n",
    "    best = gs.best_estimator_\n",
    "    \n",
    "    y_pred = best.predict(X_test)\n",
    "    res = {\n",
    "        'accuracy': accuracy_score(y_test, y_pred),\n",
    "        'precision': precision_score(y_test, y_pred, average='weighted'),\n",
    "        'recall': recall_score(y_test, y_pred, average='weighted'),\n",
    "        'f1': f1_score(y_test, y_pred, average='weighted'),\n",
    "        'classification_report': classification_report(y_test, y_pred, digits=4)\n",
    "    }\n",
    "    results[name] = res\n",
    "    print(res['classification_report'])"
   ]
  },
  {
   "cell_type": "code",
   "execution_count": 6,
   "id": "0be3b34e",
   "metadata": {},
   "outputs": [
    {
     "name": "stdout",
     "output_type": "stream",
     "text": [
      "\n",
      "=== SVM - RandomizedSearchCV ===\n",
      "Best params (RS): {'C': 0.6808361216819946, 'gamma': 'auto', 'kernel': 'linear'}\n",
      "              precision    recall  f1-score   support\n",
      "\n",
      "           0     1.0000    1.0000    1.0000        12\n",
      "           1     0.8750    1.0000    0.9333        14\n",
      "           2     1.0000    0.8000    0.8889        10\n",
      "\n",
      "    accuracy                         0.9444        36\n",
      "   macro avg     0.9583    0.9333    0.9407        36\n",
      "weighted avg     0.9514    0.9444    0.9432        36\n",
      "\n"
     ]
    }
   ],
   "source": [
    "\n",
    "# Optionally performing RandomizedSearchCV for SVM to compare\n",
    "print(\"\\n=== SVM - RandomizedSearchCV ===\")\n",
    "from scipy.stats import uniform\n",
    "param_dist = {\n",
    "    'C': uniform(0.1, 10),\n",
    "    'kernel': ['linear', 'rbf'],\n",
    "    'gamma': ['scale', 'auto']\n",
    "}\n",
    "rs = RandomizedSearchCV(SVC(random_state=42), param_dist, n_iter=10, cv=5,\n",
    "                        n_jobs=-1, scoring='accuracy', random_state=42)\n",
    "rs.fit(X_train, y_train)\n",
    "print(\"Best params (RS):\", rs.best_params_)\n",
    "y_pred_rs = rs.best_estimator_.predict(X_test)\n",
    "results['SVM_RS'] = {\n",
    "    'accuracy': accuracy_score(y_test, y_pred_rs),\n",
    "    'precision': precision_score(y_test, y_pred_rs, average='weighted'),\n",
    "    'recall': recall_score(y_test, y_pred_rs, average='weighted'),\n",
    "    'f1': f1_score(y_test, y_pred_rs, average='weighted'),\n",
    "    'classification_report': classification_report(y_test, y_pred_rs, digits=4)\n",
    "}\n",
    "print(results['SVM_RS']['classification_report'])"
   ]
  },
  {
   "cell_type": "code",
   "execution_count": 7,
   "id": "72c0bf21",
   "metadata": {},
   "outputs": [
    {
     "name": "stdout",
     "output_type": "stream",
     "text": [
      "\n",
      "=== Summary Metrics ===\n",
      "              accuracy precision    recall        f1\n",
      "RandomForest       1.0       1.0       1.0       1.0\n",
      "SVM           0.972222  0.974074  0.972222   0.97197\n",
      "GBM           0.944444  0.946581  0.944444  0.944269\n",
      "SVM_RS        0.944444  0.951389  0.944444   0.94321\n"
     ]
    }
   ],
   "source": [
    "# Summary comparison\n",
    "print(\"\\n=== Summary Metrics ===\")\n",
    "summary = pd.DataFrame(results).T[['accuracy', 'precision', 'recall', 'f1']]\n",
    "print(summary)"
   ]
  }
 ],
 "metadata": {
  "kernelspec": {
   "display_name": "base",
   "language": "python",
   "name": "python3"
  },
  "language_info": {
   "codemirror_mode": {
    "name": "ipython",
    "version": 3
   },
   "file_extension": ".py",
   "mimetype": "text/x-python",
   "name": "python",
   "nbconvert_exporter": "python",
   "pygments_lexer": "ipython3",
   "version": "3.12.7"
  }
 },
 "nbformat": 4,
 "nbformat_minor": 5
}
